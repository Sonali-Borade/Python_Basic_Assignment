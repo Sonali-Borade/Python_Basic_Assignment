{
 "cells": [
  {
   "cell_type": "markdown",
   "id": "83a4075b",
   "metadata": {},
   "source": [
    "# 1. Why are functions advantageous to have in your programs?"
   ]
  },
  {
   "cell_type": "markdown",
   "id": "aca94ce8",
   "metadata": {},
   "source": [
    "Function are used for resuability purposes (if we are going to use a particular code again and again then we will use function definition  and when needed call it and helps to reduce complexity and length of code."
   ]
  },
  {
   "cell_type": "markdown",
   "id": "32d2bce7",
   "metadata": {},
   "source": [
    "# 2. When does the code in a function run: when it's specified or when it's called?"
   ]
  },
  {
   "cell_type": "markdown",
   "id": "24c499c7",
   "metadata": {},
   "source": [
    "The code in function gets run when it is called."
   ]
  },
  {
   "cell_type": "markdown",
   "id": "39707160",
   "metadata": {},
   "source": [
    "# 3. What statement creates a function?"
   ]
  },
  {
   "cell_type": "markdown",
   "id": "8a5d1efe",
   "metadata": {},
   "source": [
    "def keyword creats a function statement"
   ]
  },
  {
   "cell_type": "markdown",
   "id": "8c6204d3",
   "metadata": {},
   "source": [
    "# 4. What is the difference between a function and a function call?"
   ]
  },
  {
   "cell_type": "markdown",
   "id": "79d6a767",
   "metadata": {},
   "source": [
    "Function is a procedure to do certain task with combination of function defination and function call.Eg:\n"
   ]
  },
  {
   "cell_type": "code",
   "execution_count": 2,
   "id": "c3df45ff",
   "metadata": {},
   "outputs": [
    {
     "name": "stdout",
     "output_type": "stream",
     "text": [
      "Enter a number to check even or odd :23\n",
      "odd\n"
     ]
    }
   ],
   "source": [
    "#function to find number is even or not\n",
    "def num(x):#function definition\n",
    "    if x%2==0:\n",
    "        print(\"even number\")\n",
    "    else:\n",
    "        print(\"odd number \")\n",
    "x=int(input(\"Enter a number to check even or odd :\"))        \n",
    "num(x)     #function call   "
   ]
  },
  {
   "cell_type": "markdown",
   "id": "f0d35119",
   "metadata": {},
   "source": [
    "Function call helps for execution of function.\n",
    "#function name(parameter)"
   ]
  },
  {
   "cell_type": "markdown",
   "id": "7df688fa",
   "metadata": {},
   "source": [
    "# 5. How many global scopes are there in a Python program? How many local scopes?"
   ]
  },
  {
   "cell_type": "markdown",
   "id": "f2a5e90c",
   "metadata": {},
   "source": [
    "Scope is where variable can be accessed in certian blocks.\n",
    "There are LEGB scopes(Local,Enclosing,Global,Builtins)\n",
    "\n",
    "Local variables are declared and used  inside a block of  function.\n",
    "\n",
    "\n",
    "Global variable are declared inside main and can be used inside that program.\n",
    "They can be explictly declare by using global keyword."
   ]
  },
  {
   "cell_type": "markdown",
   "id": "3b448ca1",
   "metadata": {},
   "source": [
    "# 6. What happens to variables in a local scope when the function call returns?\n"
   ]
  },
  {
   "cell_type": "code",
   "execution_count": null,
   "id": "5aa95c6e",
   "metadata": {},
   "outputs": [],
   "source": [
    "When the function call is returned the local variable  are destoryed. "
   ]
  },
  {
   "cell_type": "markdown",
   "id": "d646bdd9",
   "metadata": {},
   "source": [
    "# 7. What is the concept of a return value? Is it possible to have a return value in an expression?"
   ]
  },
  {
   "cell_type": "code",
   "execution_count": null,
   "id": "087c9683",
   "metadata": {},
   "outputs": [],
   "source": [
    "Return statement is used in function to return a value from one point to another or it is used to stop execution of function call and return the value to function calller.\n",
    "Yes it is possible to have return value in expression but it should be python object."
   ]
  },
  {
   "cell_type": "markdown",
   "id": "eb397b88",
   "metadata": {},
   "source": [
    "# 8. If a function does not have a return statement, what is the return value of a call to that function?"
   ]
  },
  {
   "cell_type": "code",
   "execution_count": null,
   "id": "d2c7857b",
   "metadata": {},
   "outputs": [],
   "source": [
    "If there is no return statement in the function than None type."
   ]
  },
  {
   "cell_type": "markdown",
   "id": "a0bb0fae",
   "metadata": {},
   "source": [
    "# 9. How do you make a function variable refer to the global variable?"
   ]
  },
  {
   "cell_type": "code",
   "execution_count": null,
   "id": "ee65fc86",
   "metadata": {},
   "outputs": [],
   "source": [
    "Global Variable are define outside the function and can be used inside and outside function.The global variable can be declared using global keyword and variable name.\n",
    "Eg: global num"
   ]
  },
  {
   "cell_type": "markdown",
   "id": "e22a80b0",
   "metadata": {},
   "source": [
    "# 10. What is the data type of None?"
   ]
  },
  {
   "cell_type": "code",
   "execution_count": null,
   "id": "cd3a6a2e",
   "metadata": {},
   "outputs": [],
   "source": [
    "None is defined as null value."
   ]
  },
  {
   "cell_type": "markdown",
   "id": "c9299e4a",
   "metadata": {},
   "source": [
    "# 11. What does the sentence import areallyourpetsnamederic do?"
   ]
  },
  {
   "cell_type": "code",
   "execution_count": null,
   "id": "cc7521c0",
   "metadata": {},
   "outputs": [],
   "source": [
    "Import a module of areallyyourpetsnamederic ."
   ]
  },
  {
   "cell_type": "markdown",
   "id": "2ea72f68",
   "metadata": {},
   "source": [
    "# 12. If you had a bacon() feature in a spam module, what would you call it after importing spam?"
   ]
  },
  {
   "cell_type": "code",
   "execution_count": null,
   "id": "9b37eafc",
   "metadata": {},
   "outputs": [],
   "source": [
    "spam.bacon() will be function call."
   ]
  },
  {
   "cell_type": "markdown",
   "id": "8f828f6a",
   "metadata": {},
   "source": [
    "# 13. What can you do to save a programme from crashing if it encounters an error?"
   ]
  },
  {
   "cell_type": "code",
   "execution_count": null,
   "id": "02dc4627",
   "metadata": {},
   "outputs": [],
   "source": [
    "We can use try block for error causing code and except for showing the error ."
   ]
  },
  {
   "cell_type": "markdown",
   "id": "6b237513",
   "metadata": {},
   "source": [
    "# 14. What is the purpose of the try clause? What is the purpose of the except clause?\n"
   ]
  },
  {
   "cell_type": "code",
   "execution_count": null,
   "id": "797a9742",
   "metadata": {},
   "outputs": [],
   "source": [
    "Try clause is used for code which is causing error and except clause is used to show type of error is caused by try block of code."
   ]
  },
  {
   "cell_type": "code",
   "execution_count": null,
   "id": "adb5b05e",
   "metadata": {},
   "outputs": [],
   "source": []
  }
 ],
 "metadata": {
  "kernelspec": {
   "display_name": "Python 3 (ipykernel)",
   "language": "python",
   "name": "python3"
  },
  "language_info": {
   "codemirror_mode": {
    "name": "ipython",
    "version": 3
   },
   "file_extension": ".py",
   "mimetype": "text/x-python",
   "name": "python",
   "nbconvert_exporter": "python",
   "pygments_lexer": "ipython3",
   "version": "3.9.7"
  }
 },
 "nbformat": 4,
 "nbformat_minor": 5
}
