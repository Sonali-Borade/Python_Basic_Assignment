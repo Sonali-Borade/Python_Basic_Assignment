{
 "cells": [
  {
   "cell_type": "markdown",
   "metadata": {},
   "source": [
    "# 1.What are the two values of the Boolean data type? How do you write them?\n",
    "\n",
    "The two Values in te boolean data type are True (1) and False(0). a= True + 5+False"
   ]
  },
  {
   "cell_type": "code",
   "execution_count": 4,
   "metadata": {},
   "outputs": [
    {
     "name": "stdout",
     "output_type": "stream",
     "text": [
      "True\n",
      "7\n"
     ]
    }
   ],
   "source": [
    "c=True and True\n",
    "print (c)\n",
    "a = True + 6\n",
    "print (a)"
   ]
  },
  {
   "cell_type": "markdown",
   "metadata": {},
   "source": [
    "# 2. What are the three different types of Boolean operators?\n",
    "\n",
    "Boolean Operators are or , and ,not."
   ]
  },
  {
   "cell_type": "markdown",
   "metadata": {},
   "source": [
    "# 3. Make a list of each Boolean operator's truth tables (i.e. every possible combination of Boolean values for the operator and what it evaluate )."
   ]
  },
  {
   "cell_type": "code",
   "execution_count": 22,
   "metadata": {},
   "outputs": [
    {
     "name": "stdout",
     "output_type": "stream",
     "text": [
      "Table for AND , TRUE = 1 FALSE=0\n",
      " T AND T  True\n",
      "T AND F False\n",
      "F AND F False\n",
      "F AND T False\n"
     ]
    }
   ],
   "source": [
    "print(\"Table for AND , TRUE = 1 FALSE=0\")\n",
    "print(\" T AND T \",True and True) \n",
    "print(\"T AND F\", True and False)\n",
    "print(\"F AND F\",False and False)\n",
    "print(\"F AND T\",False and True)"
   ]
  },
  {
   "cell_type": "code",
   "execution_count": 23,
   "metadata": {},
   "outputs": [
    {
     "name": "stdout",
     "output_type": "stream",
     "text": [
      "Table for OR  TRUE = 1 FALSE=0\n",
      " T OR T  True\n",
      "T OR F True\n",
      "F OR F False\n",
      "F OR T True\n"
     ]
    }
   ],
   "source": [
    "print(\"Table for OR  TRUE = 1 FALSE=0\")\n",
    "print(\" T OR T \",True or True) \n",
    "print(\"T OR F\", True or False)\n",
    "print(\"F OR F\",False or False)\n",
    "print(\"F OR T\",False or True)"
   ]
  },
  {
   "cell_type": "code",
   "execution_count": 24,
   "metadata": {},
   "outputs": [
    {
     "name": "stdout",
     "output_type": "stream",
     "text": [
      " not  TRUE = 1 FALSE=0\n",
      "False\n",
      "True\n"
     ]
    }
   ],
   "source": [
    "print(\" not  TRUE = 1 FALSE=0\")\n",
    "print(not(True))\n",
    "print(not(False))"
   ]
  },
  {
   "cell_type": "markdown",
   "metadata": {},
   "source": [
    "# 4. What are the values of the following expressions?\n",
    "(5 > 4) and (3 == 5)\n",
    "not (5 > 4)\n",
    "(5 > 4) or (3 == 5)\n",
    "not ((5 > 4) or (3 == 5))\n",
    "(True and True) and (True == False)\n",
    "(not False) or (not True)\n"
   ]
  },
  {
   "cell_type": "code",
   "execution_count": 32,
   "metadata": {},
   "outputs": [
    {
     "name": "stdout",
     "output_type": "stream",
     "text": [
      "False  (5>4) and (3==5)\n",
      "False not (5 > 4)\n",
      "True (5 > 4) or (3 == 5)\n",
      "False ((5 > 4) or (3 == 5)) \n",
      "False (True and True) and (True == False) \n",
      "True (not False) or (not True) \n"
     ]
    }
   ],
   "source": [
    "print((5>4)and (3==5),\" (5>4) and (3==5)\")\n",
    "print(not (5 > 4),\"not (5 > 4)\")\n",
    "print((5 > 4) or (3 == 5),\"(5 > 4) or (3 == 5)\")\n",
    "print(not ((5 > 4) or (3 == 5)),\"((5 > 4) or (3 == 5)) \")\n",
    "print((True and True) and (True == False),\"(True and True) and (True == False) \")\n",
    "print((not False) or (not True),\"(not False) or (not True) \")\n"
   ]
  },
  {
   "cell_type": "markdown",
   "metadata": {},
   "source": [
    "# 5. What are the six comparison operators?\n"
   ]
  },
  {
   "cell_type": "code",
   "execution_count": 54,
   "metadata": {},
   "outputs": [
    {
     "name": "stdout",
     "output_type": "stream",
     "text": [
      " 1. less than operator  a<b \n",
      "True\n",
      " 2. greater than  a>b\n",
      "False\n",
      "3.less than or equal to a<=b\n",
      "True\n",
      "4. greater than or equal to a>=b\n",
      "True\n",
      "5.equal to a==3\n",
      "True\n",
      "6. not equal to\n",
      "False\n"
     ]
    }
   ],
   "source": [
    "print(\" 1. less than operator  a<b \")\n",
    "a=3\n",
    "b=10\n",
    "c=a<b\n",
    "print(c)\n",
    "print(\" 2. greater than  a>b\")\n",
    "d=a>b\n",
    "print(d)\n",
    "print(\"3.less than or equal to a<=b\")\n",
    "lessthan= a<=b\n",
    "print(lessthan)\n",
    "print(\"4. greater than or equal to a>=b\")\n",
    "great= b>=a\n",
    "print(great)\n",
    "print(\"5.equal to a==3\")\n",
    "print(a==3)\n",
    "print(\"6. not equal to\")\n",
    "print(b!=10)"
   ]
  },
  {
   "cell_type": "markdown",
   "metadata": {},
   "source": [
    "# 6. How do you tell the difference between the equal to and assignment operators?Describe a condition and when you would use one.\n",
    "\n",
    "\n",
    "EQUAL TO (A==3) is a comparision operator used to compare both the sides (left side == right side).\n",
    "Assignment operator(a=3)also known as assign a value to a variable or is a operator which holds the value in the memory (its a name given to memory loacation which stores datatypes (like integer,float,string etc))"
   ]
  },
  {
   "cell_type": "markdown",
   "metadata": {},
   "source": [
    "# 7. Identify the three blocks in this code:"
   ]
  },
  {
   "cell_type": "code",
   "execution_count": 56,
   "metadata": {},
   "outputs": [
    {
     "name": "stdout",
     "output_type": "stream",
     "text": [
      "ham\n",
      "spam\n",
      "spam\n"
     ]
    }
   ],
   "source": [
    "\n",
    "spam = 0   # assigining value to spam\n",
    "if spam == 10:  # comparision operator  eauql to \n",
    " print('eggs')\n",
    "if spam > 5:    #greater than \n",
    " print('bacon')\n",
    "else:\n",
    " print('ham')\n",
    " print('spam')\n",
    " print('spam')\n"
   ]
  },
  {
   "cell_type": "markdown",
   "metadata": {},
   "source": [
    "# 8. Write code that prints Hello if 1 is stored in spam, prints Howdy if 2 is stored in spam, and prints Greetings! if anything else is stored in spam.\n"
   ]
  },
  {
   "cell_type": "code",
   "execution_count": 75,
   "metadata": {},
   "outputs": [
    {
     "name": "stdout",
     "output_type": "stream",
     "text": [
      "1\n",
      "hello\n"
     ]
    }
   ],
   "source": [
    "spam =int(input())\n",
    "if spam==1:\n",
    "    print(\"hello\")   \n",
    "elif spam==2:\n",
    "    print(\"howdy\")\n",
    "else:\n",
    "    print(\"greetings!\") "
   ]
  },
  {
   "cell_type": "markdown",
   "metadata": {},
   "source": [
    "# 9.If your programme is stuck in an endless loop, what keys you’ll press?\n",
    "\n",
    "ctrl+c"
   ]
  },
  {
   "cell_type": "markdown",
   "metadata": {},
   "source": [
    "# 10. How can you tell the difference between break and continue?\n",
    "\n",
    "\n",
    "Break Statement: Is used to exit a loop when a certain condition is met.\n",
    "Continue Statement:Is used to skip a loop when a certain condition is met.\n",
    "\n"
   ]
  },
  {
   "cell_type": "markdown",
   "metadata": {},
   "source": [
    "# 11. In a for loop, what is the difference between range(10), range(0, 10), and range(0, 10, 1)?\n"
   ]
  },
  {
   "cell_type": "code",
   "execution_count": 76,
   "metadata": {},
   "outputs": [
    {
     "name": "stdout",
     "output_type": "stream",
     "text": [
      "0\n",
      "1\n",
      "2\n",
      "3\n",
      "4\n",
      "5\n",
      "6\n",
      "7\n",
      "8\n",
      "9\n"
     ]
    }
   ],
   "source": [
    "for i in range (10): #range(stop) only the stop value is given so it will  set start=0 and step=1 and (stop-1) \n",
    "    print(i)"
   ]
  },
  {
   "cell_type": "code",
   "execution_count": 78,
   "metadata": {},
   "outputs": [
    {
     "name": "stdout",
     "output_type": "stream",
     "text": [
      "0\n",
      "1\n",
      "2\n",
      "3\n",
      "4\n",
      "5\n",
      "6\n",
      "7\n",
      "8\n",
      "9\n"
     ]
    }
   ],
   "source": [
    "for i in range(0,10):#range(start,stop) only the start and stop value is given so it will step=1 and (stop-1) \n",
    "    print(i)"
   ]
  },
  {
   "cell_type": "code",
   "execution_count": 79,
   "metadata": {},
   "outputs": [
    {
     "name": "stdout",
     "output_type": "stream",
     "text": [
      "0\n",
      "1\n",
      "2\n",
      "3\n",
      "4\n",
      "5\n",
      "6\n",
      "7\n",
      "8\n",
      "9\n"
     ]
    }
   ],
   "source": [
    "for i in range(0,10,1):#range(start,stop,step)  \n",
    "    print(i)"
   ]
  },
  {
   "cell_type": "markdown",
   "metadata": {},
   "source": [
    "# 12. Write a short program that prints the numbers 1 to 10 using a for loop. Then write an equivalent program that prints the numbers 1 to 10 using a while loop."
   ]
  },
  {
   "cell_type": "code",
   "execution_count": 1,
   "metadata": {},
   "outputs": [
    {
     "name": "stdout",
     "output_type": "stream",
     "text": [
      "1\n",
      "2\n",
      "3\n",
      "4\n",
      "5\n",
      "6\n",
      "7\n",
      "8\n",
      "9\n",
      "10\n"
     ]
    }
   ],
   "source": [
    "for i in range(1,11):\n",
    "    print(i)"
   ]
  },
  {
   "cell_type": "code",
   "execution_count": 4,
   "metadata": {},
   "outputs": [
    {
     "name": "stdout",
     "output_type": "stream",
     "text": [
      "1\n",
      "2\n",
      "3\n",
      "4\n",
      "5\n",
      "6\n",
      "7\n",
      "8\n",
      "9\n",
      "10\n"
     ]
    }
   ],
   "source": [
    "i=1\n",
    "while i<=10:\n",
    "    print(i)\n",
    "    i+=1"
   ]
  },
  {
   "cell_type": "markdown",
   "metadata": {},
   "source": [
    "# 13. If you had a function named bacon() inside a module named spam, how would you call it after importing spam?\n"
   ]
  },
  {
   "cell_type": "code",
   "execution_count": null,
   "metadata": {},
   "outputs": [],
   "source": [
    "spam.bacon()"
   ]
  },
  {
   "cell_type": "code",
   "execution_count": null,
   "metadata": {},
   "outputs": [],
   "source": []
  }
 ],
 "metadata": {
  "kernelspec": {
   "display_name": "Python 3",
   "language": "python",
   "name": "python3"
  },
  "language_info": {
   "codemirror_mode": {
    "name": "ipython",
    "version": 3
   },
   "file_extension": ".py",
   "mimetype": "text/x-python",
   "name": "python",
   "nbconvert_exporter": "python",
   "pygments_lexer": "ipython3",
   "version": "3.8.5"
  }
 },
 "nbformat": 4,
 "nbformat_minor": 4
}
