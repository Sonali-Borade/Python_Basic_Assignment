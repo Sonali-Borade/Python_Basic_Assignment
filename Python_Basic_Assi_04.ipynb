{
 "cells": [
  {
   "cell_type": "markdown",
   "id": "98ed0fe4",
   "metadata": {},
   "source": [
    "# 1. What exactly is []?"
   ]
  },
  {
   "cell_type": "markdown",
   "id": "a3ce4bba",
   "metadata": {},
   "source": [
    "List variable are used to store multiple  values and is declared by using [],list() and it is mutable , can hold duplicate vaalues.\n",
    "List variables can be accessed by using indexing."
   ]
  },
  {
   "cell_type": "markdown",
   "id": "4e81087a",
   "metadata": {},
   "source": [
    "# 2. In a list of values stored in a variable called spam, how would you assign the value 'hello' as the third value? (Assume [2, 4, 6, 8, 10] are in spam.)\n",
    "Let's pretend the spam includes the list ['a', 'b', 'c', 'd'] for the next three queries.\n"
   ]
  },
  {
   "cell_type": "code",
   "execution_count": 3,
   "id": "4de042c0",
   "metadata": {},
   "outputs": [
    {
     "name": "stdout",
     "output_type": "stream",
     "text": [
      "[2, 4, 6, 8, 10]\n"
     ]
    }
   ],
   "source": [
    "spam =[2,4,6,8,10]\n",
    "print(spam)"
   ]
  },
  {
   "cell_type": "code",
   "execution_count": 4,
   "id": "2491c77c",
   "metadata": {},
   "outputs": [
    {
     "name": "stdout",
     "output_type": "stream",
     "text": [
      "[2, 4, 'hello', 6, 8, 10]\n"
     ]
    }
   ],
   "source": [
    "spam.insert(2,\"hello\")\n",
    "print(spam)"
   ]
  },
  {
   "cell_type": "code",
   "execution_count": null,
   "id": "158164e2",
   "metadata": {},
   "outputs": [],
   "source": []
  },
  {
   "cell_type": "markdown",
   "id": "2df68689",
   "metadata": {},
   "source": [
    "# 3. What is the value of spam[int(int('3' * 2) / 11)]?"
   ]
  },
  {
   "cell_type": "code",
   "execution_count": 5,
   "id": "b0e5fb34",
   "metadata": {},
   "outputs": [
    {
     "data": {
      "text/plain": [
       "'d'"
      ]
     },
     "execution_count": 5,
     "metadata": {},
     "output_type": "execute_result"
    }
   ],
   "source": [
    "spam = ['a','b','c','d']\n",
    "spam[int(int('3'*2)/11)]"
   ]
  },
  {
   "cell_type": "markdown",
   "id": "349dce64",
   "metadata": {},
   "source": [
    "# 4. What is the value of spam[-1]?"
   ]
  },
  {
   "cell_type": "markdown",
   "id": "7d62bd0c",
   "metadata": {},
   "source": [
    "It returns last value of spam list.\n"
   ]
  },
  {
   "cell_type": "code",
   "execution_count": 6,
   "id": "604bd163",
   "metadata": {},
   "outputs": [
    {
     "data": {
      "text/plain": [
       "'d'"
      ]
     },
     "execution_count": 6,
     "metadata": {},
     "output_type": "execute_result"
    }
   ],
   "source": [
    "spam[-1]"
   ]
  },
  {
   "cell_type": "markdown",
   "id": "9df65b0c",
   "metadata": {},
   "source": [
    "# 5. What is the value of spam[:2]?"
   ]
  },
  {
   "cell_type": "code",
   "execution_count": 7,
   "id": "8c9900c9",
   "metadata": {},
   "outputs": [
    {
     "data": {
      "text/plain": [
       "['a', 'b']"
      ]
     },
     "execution_count": 7,
     "metadata": {},
     "output_type": "execute_result"
    }
   ],
   "source": [
    "spam[:2]"
   ]
  },
  {
   "cell_type": "markdown",
   "id": "0cc8f0b9",
   "metadata": {},
   "source": [
    "# Let's pretend bacon has the list [3.14, 'cat,' 11, 'cat,' True] for the next three questions.\n",
    "6. What is the value of bacon.index('cat')?\n"
   ]
  },
  {
   "cell_type": "code",
   "execution_count": 8,
   "id": "f08f620f",
   "metadata": {},
   "outputs": [
    {
     "name": "stdout",
     "output_type": "stream",
     "text": [
      "[3.14, 'cat', 11, 'cat', True]\n"
     ]
    }
   ],
   "source": [
    "bacon=[3.14,'cat',11,'cat',True]\n",
    "print(bacon)\n"
   ]
  },
  {
   "cell_type": "code",
   "execution_count": 9,
   "id": "14251864",
   "metadata": {},
   "outputs": [
    {
     "data": {
      "text/plain": [
       "1"
      ]
     },
     "execution_count": 9,
     "metadata": {},
     "output_type": "execute_result"
    }
   ],
   "source": [
    "bacon.index('cat')"
   ]
  },
  {
   "cell_type": "markdown",
   "id": "44781bea",
   "metadata": {},
   "source": [
    "# 7. How does bacon.append(99) change the look of the list value in bacon?"
   ]
  },
  {
   "cell_type": "code",
   "execution_count": 10,
   "id": "27f50a64",
   "metadata": {},
   "outputs": [],
   "source": [
    "bacon.append(99)"
   ]
  },
  {
   "cell_type": "code",
   "execution_count": 11,
   "id": "72a0052f",
   "metadata": {},
   "outputs": [
    {
     "name": "stdout",
     "output_type": "stream",
     "text": [
      "[3.14, 'cat', 11, 'cat', True, 99]\n"
     ]
    }
   ],
   "source": [
    "print(bacon)"
   ]
  },
  {
   "cell_type": "markdown",
   "id": "7ae0edc4",
   "metadata": {},
   "source": [
    "# 8. How does bacon.remove('cat') change the look of the list in bacon?"
   ]
  },
  {
   "cell_type": "code",
   "execution_count": 12,
   "id": "f0b74701",
   "metadata": {},
   "outputs": [
    {
     "name": "stdout",
     "output_type": "stream",
     "text": [
      "[3.14, 11, 'cat', True, 99]\n"
     ]
    }
   ],
   "source": [
    "bacon.remove('cat')\n",
    "print(bacon)"
   ]
  },
  {
   "cell_type": "markdown",
   "id": "e1a4e208",
   "metadata": {},
   "source": [
    "# 9. What are the list concatenation and list replication operators?"
   ]
  },
  {
   "cell_type": "markdown",
   "id": "ba57691c",
   "metadata": {},
   "source": [
    "+ are used for concatenation and * is used for replication in list."
   ]
  },
  {
   "cell_type": "markdown",
   "id": "dd251d33",
   "metadata": {},
   "source": [
    "# 10. What is difference between the list methods append() and insert()?"
   ]
  },
  {
   "cell_type": "markdown",
   "id": "135ddfa7",
   "metadata": {},
   "source": [
    "list append() adds value at the end of the list.\n",
    "list insert()adds value on the specified value at the specific location."
   ]
  },
  {
   "cell_type": "markdown",
   "id": "9e47c6c6",
   "metadata": {},
   "source": [
    "# 11. What are the two methods for removing items from a list?"
   ]
  },
  {
   "cell_type": "markdown",
   "id": "590079ed",
   "metadata": {},
   "source": [
    "remove(),del(),pop() are used to remove items in list."
   ]
  },
  {
   "cell_type": "markdown",
   "id": "e8e6e17d",
   "metadata": {},
   "source": [
    "# 12. Describe how list values and string values are identical."
   ]
  },
  {
   "cell_type": "markdown",
   "id": "48524d3c",
   "metadata": {},
   "source": [
    "Both are sequence of data and are ordered."
   ]
  },
  {
   "cell_type": "markdown",
   "id": "2ea1e057",
   "metadata": {},
   "source": [
    "# 13. What's the difference between tuples and lists?"
   ]
  },
  {
   "cell_type": "markdown",
   "id": "9b831a6d",
   "metadata": {},
   "source": [
    "Tuples are defined with () or tuple() which are immutable where as list can be defined ad [] or list() which are mutable."
   ]
  },
  {
   "cell_type": "markdown",
   "id": "a664f7fa",
   "metadata": {},
   "source": [
    "# 14. How do you type a tuple value that only contains the integer 42?"
   ]
  },
  {
   "cell_type": "code",
   "execution_count": 16,
   "id": "418005ca",
   "metadata": {},
   "outputs": [],
   "source": [
    "t1=(42 ,)"
   ]
  },
  {
   "cell_type": "markdown",
   "id": "bce0c3ce",
   "metadata": {},
   "source": [
    "# 15. How do you get a list value's tuple form? How do you get a tuple value's list form?"
   ]
  },
  {
   "cell_type": "code",
   "execution_count": 20,
   "id": "43941ef9",
   "metadata": {},
   "outputs": [
    {
     "name": "stdout",
     "output_type": "stream",
     "text": [
      "['Sonu', 'sonali', 'omi', 'omkar']\n",
      "<class 'list'>\n",
      "('Sonu', 'sonali', 'omi', 'omkar')\n",
      "<class 'tuple'>\n",
      "['Sonu', 'sonali', 'omi', 'omkar']\n",
      "<class 'list'>\n"
     ]
    }
   ],
   "source": [
    "#list values to tuple \n",
    "names = [\"Sonu\",'sonali','omi','omkar']\n",
    "print(names)\n",
    "print(type(names))\n",
    "\n",
    "con_name=tuple(names)\n",
    "print(con_name)\n",
    "print(type(con_name))\n",
    "\n",
    "\n",
    "#tuple to list\n",
    "name_lis=list(con_name)\n",
    "print(name_lis)\n",
    "print(type(name_lis))\n",
    "\n",
    "#We can aslso use zip , map functions"
   ]
  },
  {
   "cell_type": "markdown",
   "id": "143d8001",
   "metadata": {},
   "source": [
    "# 16. Variables that \"contain\" list values are not necessarily lists themselves. Instead, what do they contain?\n",
    "\n"
   ]
  },
  {
   "cell_type": "markdown",
   "id": "bf94d139",
   "metadata": {},
   "source": [
    "The list contain the reference to list values instead of actual value ."
   ]
  },
  {
   "cell_type": "markdown",
   "id": "81c6e7aa",
   "metadata": {},
   "source": [
    "# 17. How do you distinguish between copy.copy() and copy.deepcopy()?"
   ]
  },
  {
   "cell_type": "markdown",
   "id": "56204dbf",
   "metadata": {},
   "source": [
    "deepcopy() is a deepcopy process where object copy are made(main to copy ) and any change in main object will not reflect on copy object.\n",
    "\n",
    "copy() is a shallow copy process where there is single object and rest object points to reference of main object so if any changes made in rest object it gets reflected to main object also."
   ]
  }
 ],
 "metadata": {
  "kernelspec": {
   "display_name": "Python 3 (ipykernel)",
   "language": "python",
   "name": "python3"
  },
  "language_info": {
   "codemirror_mode": {
    "name": "ipython",
    "version": 3
   },
   "file_extension": ".py",
   "mimetype": "text/x-python",
   "name": "python",
   "nbconvert_exporter": "python",
   "pygments_lexer": "ipython3",
   "version": "3.9.7"
  }
 },
 "nbformat": 4,
 "nbformat_minor": 5
}
